{
 "cells": [
  {
   "cell_type": "markdown",
   "metadata": {},
   "source": [
    "# Secure Federated Learning with Trust Aggregator"
   ]
  },
  {
   "cell_type": "code",
   "execution_count": 1,
   "metadata": {
    "scrolled": true
   },
   "outputs": [
    {
     "name": "stderr",
     "output_type": "stream",
     "text": [
      "WARNING: Logging before flag parsing goes to stderr.\n",
      "W0709 05:05:07.547800 11884 secure_random.py:26] Falling back to insecure randomness since the required custom op could not be found for the installed version of TensorFlow. Fix this by compiling custom ops. Missing file was 'C:\\Users\\Telexine\\.conda\\envs\\pysyft2\\lib\\site-packages\\tf_encrypted/operations/secure_random/secure_random_module_tf_1.14.0.so'\n",
      "W0709 05:05:07.565800 11884 deprecation_wrapper.py:119] From C:\\Users\\Telexine\\.conda\\envs\\pysyft2\\lib\\site-packages\\tf_encrypted\\session.py:26: The name tf.Session is deprecated. Please use tf.compat.v1.Session instead.\n",
      "\n"
     ]
    }
   ],
   "source": [
    "import syft as sy\n",
    "import torch as th\n",
    "hook = sy.TorchHook(th)\n",
    "from torch import nn,optim"
   ]
  },
  {
   "cell_type": "code",
   "execution_count": 2,
   "metadata": {},
   "outputs": [
    {
     "data": {
      "text/plain": [
       "<bound method BaseWorker.clear_objects of <VirtualWorker id:secure_worker #objects:0>>"
      ]
     },
     "execution_count": 2,
     "metadata": {},
     "output_type": "execute_result"
    }
   ],
   "source": [
    "bob = sy.VirtualWorker(hook,id=\"bob\")\n",
    "alice = sy.VirtualWorker(hook,id=\"alice\")\n",
    "secure_worker = sy.VirtualWorker(hook,id=\"secure_worker\")\n",
    "\n",
    "bob.clear_objects\n",
    "alice.clear_objects\n",
    "secure_worker.clear_objects"
   ]
  },
  {
   "cell_type": "code",
   "execution_count": 3,
   "metadata": {},
   "outputs": [
    {
     "name": "stderr",
     "output_type": "stream",
     "text": [
      "W0709 05:05:08.362802 11884 base.py:628] Worker alice already exists. Replacing old worker which could cause                     unexpected behavior\n",
      "W0709 05:05:08.363801 11884 base.py:628] Worker secure_worker already exists. Replacing old worker which could cause                     unexpected behavior\n",
      "W0709 05:05:08.363801 11884 base.py:628] Worker bob already exists. Replacing old worker which could cause                     unexpected behavior\n",
      "W0709 05:05:08.364800 11884 base.py:628] Worker secure_worker already exists. Replacing old worker which could cause                     unexpected behavior\n",
      "W0709 05:05:08.365800 11884 base.py:628] Worker alice already exists. Replacing old worker which could cause                     unexpected behavior\n",
      "W0709 05:05:08.366801 11884 base.py:628] Worker bob already exists. Replacing old worker which could cause                     unexpected behavior\n"
     ]
    },
    {
     "data": {
      "text/plain": [
       "<VirtualWorker id:secure_worker #objects:0>"
      ]
     },
     "execution_count": 3,
     "metadata": {},
     "output_type": "execute_result"
    }
   ],
   "source": [
    "# let them know the ref\n",
    "bob.add_workers([alice,secure_worker])\n",
    "alice.add_workers([bob,secure_worker])\n",
    "secure_worker.add_workers([alice,bob])"
   ]
  },
  {
   "cell_type": "code",
   "execution_count": 4,
   "metadata": {},
   "outputs": [],
   "source": [
    "data = th.tensor([[0,0],[0,1],[1,0],[1,1.]],requires_grad=True)\n",
    "target = th.tensor([[0],[0],[1],[1.]],requires_grad=True)"
   ]
  },
  {
   "cell_type": "code",
   "execution_count": 5,
   "metadata": {},
   "outputs": [],
   "source": [
    "# get pointer to training data on each worker by sending some training data to bob and alice\n",
    "bobs_data = data[0:2].send(bob)\n",
    "bobs_target = target[0:2].send(bob)"
   ]
  },
  {
   "cell_type": "code",
   "execution_count": 6,
   "metadata": {},
   "outputs": [],
   "source": [
    "alice_data = data[2:].send(alice)\n",
    "alice_target = target[2:].send(alice)"
   ]
  },
  {
   "cell_type": "code",
   "execution_count": 7,
   "metadata": {},
   "outputs": [],
   "source": [
    "model = nn.Linear(2,1)"
   ]
  },
  {
   "cell_type": "code",
   "execution_count": 11,
   "metadata": {},
   "outputs": [
    {
     "ename": "RuntimeError",
     "evalue": "set_storage is not allowed on Tensor created from .data or .detach()",
     "output_type": "error",
     "traceback": [
      "\u001b[1;31m---------------------------------------------------------------------------\u001b[0m",
      "\u001b[1;31mRuntimeError\u001b[0m                              Traceback (most recent call last)",
      "\u001b[1;32m<ipython-input-11-22ad7475ba76>\u001b[0m in \u001b[0;36m<module>\u001b[1;34m\u001b[0m\n\u001b[0;32m     23\u001b[0m     \u001b[0malice_model\u001b[0m\u001b[1;33m.\u001b[0m\u001b[0mmove\u001b[0m\u001b[1;33m(\u001b[0m\u001b[0msecure_worker\u001b[0m\u001b[1;33m)\u001b[0m\u001b[1;33m\u001b[0m\u001b[1;33m\u001b[0m\u001b[0m\n\u001b[0;32m     24\u001b[0m     \u001b[0mbobs_model\u001b[0m\u001b[1;33m.\u001b[0m\u001b[0mmove\u001b[0m\u001b[1;33m(\u001b[0m\u001b[0msecure_worker\u001b[0m\u001b[1;33m)\u001b[0m\u001b[1;33m\u001b[0m\u001b[1;33m\u001b[0m\u001b[0m\n\u001b[1;32m---> 25\u001b[1;33m     \u001b[0mmodel\u001b[0m\u001b[1;33m.\u001b[0m\u001b[0mweight\u001b[0m\u001b[1;33m.\u001b[0m\u001b[0mdata\u001b[0m\u001b[1;33m.\u001b[0m\u001b[0mset_\u001b[0m\u001b[1;33m(\u001b[0m\u001b[1;33m(\u001b[0m\u001b[1;33m(\u001b[0m\u001b[0malice_model\u001b[0m\u001b[1;33m.\u001b[0m\u001b[0mweight\u001b[0m\u001b[1;33m.\u001b[0m\u001b[0mdata\u001b[0m \u001b[1;33m+\u001b[0m \u001b[0mbobs_model\u001b[0m\u001b[1;33m.\u001b[0m\u001b[0mweight\u001b[0m\u001b[1;33m.\u001b[0m\u001b[0mdata\u001b[0m \u001b[1;33m)\u001b[0m \u001b[1;33m/\u001b[0m\u001b[1;36m2\u001b[0m\u001b[1;33m)\u001b[0m\u001b[1;33m.\u001b[0m\u001b[0mget\u001b[0m\u001b[1;33m(\u001b[0m\u001b[1;33m)\u001b[0m\u001b[1;33m)\u001b[0m\u001b[1;33m\u001b[0m\u001b[1;33m\u001b[0m\u001b[0m\n\u001b[0m\u001b[0;32m     26\u001b[0m     \u001b[0mmodel\u001b[0m\u001b[1;33m.\u001b[0m\u001b[0mbias\u001b[0m\u001b[1;33m.\u001b[0m\u001b[0mdata\u001b[0m\u001b[1;33m.\u001b[0m\u001b[0mset_\u001b[0m\u001b[1;33m(\u001b[0m\u001b[1;33m(\u001b[0m\u001b[1;33m(\u001b[0m\u001b[0malice_model\u001b[0m\u001b[1;33m.\u001b[0m\u001b[0mbias\u001b[0m\u001b[1;33m.\u001b[0m\u001b[0mdata\u001b[0m \u001b[1;33m+\u001b[0m \u001b[0mbobs_model\u001b[0m\u001b[1;33m.\u001b[0m\u001b[0mbias\u001b[0m\u001b[1;33m.\u001b[0m\u001b[0mdata\u001b[0m \u001b[1;33m)\u001b[0m \u001b[1;33m/\u001b[0m\u001b[1;36m2\u001b[0m\u001b[1;33m)\u001b[0m\u001b[1;33m.\u001b[0m\u001b[0mget\u001b[0m\u001b[1;33m(\u001b[0m\u001b[1;33m)\u001b[0m\u001b[1;33m)\u001b[0m\u001b[1;33m\u001b[0m\u001b[1;33m\u001b[0m\u001b[0m\n\u001b[0;32m     27\u001b[0m     \u001b[1;31m#model.weight.data.set_(((alice_model.weight.data + bobs_model.weight.data ) /2).get())\u001b[0m\u001b[1;33m\u001b[0m\u001b[1;33m\u001b[0m\u001b[1;33m\u001b[0m\u001b[0m\n",
      "\u001b[1;31mRuntimeError\u001b[0m: set_storage is not allowed on Tensor created from .data or .detach()"
     ]
    }
   ],
   "source": [
    "for num_rounds in range(10) :\n",
    "    bobs_model =  model.copy().send(bob)\n",
    "    alice_model =  model.copy().send(alice)\n",
    "\n",
    "    bobs_opt = optim.SGD(params=bobs_model.parameters(),lr=0.1)\n",
    "    alice_opt = optim.SGD(params=alice_model.parameters(),lr=0.1)\n",
    "    for i in range(10):\n",
    "        bobs_opt.zero_grad()\n",
    "        bobs_pred = bobs_model(bobs_data)\n",
    "        bobs_loss = ((bobs_pred - bobs_target)**2).sum()\n",
    "        bobs_loss.backward()\n",
    "        bobs_opt.step()\n",
    "        bobs_loss = bobs_loss.get().data\n",
    "        bobs_loss\n",
    "\n",
    "        alice_opt.zero_grad()\n",
    "        alices_pred = alice_model(alice_data)\n",
    "        alices_loss = ((alices_pred - alice_target)**2).sum()\n",
    "        alices_loss.backward()\n",
    "        alice_opt.step()\n",
    "        alices_loss = alices_loss.get().data\n",
    "        alices_loss\n",
    "    alice_model.move(secure_worker)\n",
    "    bobs_model.move(secure_worker)\n",
    "    model.weight.data.set_(((alice_model.weight.data + bobs_model.weight.data ) /2).get())\n",
    "    model.bias.data.set_(((alice_model.bias.data + bobs_model.bias.data ) /2).get())\n",
    "    #model.weight.data.set_(((alice_model.weight.data + bobs_model.weight.data ) /2).get())\n",
    "    #model.bias.data.set_(((alice_model.bias.data + bobs_model.bias.data ) /2).get())\n",
    "    \n",
    "    print(\"Bob:\" + str(bobs_loss)+\" Alice:\"+ str(alices_loss))"
   ]
  },
  {
   "cell_type": "code",
   "execution_count": 12,
   "metadata": {
    "scrolled": true
   },
   "outputs": [
    {
     "data": {
      "text/plain": [
       "{92470166593: Parameter containing:\n",
       " tensor([[0.5494, 0.0550]], requires_grad=True),\n",
       " 37022156059: Parameter containing:\n",
       " tensor([0.4198], requires_grad=True),\n",
       " 48306987845: Parameter containing:\n",
       " tensor([[ 0.0640, -0.0266]], requires_grad=True),\n",
       " 7456167528: Parameter containing:\n",
       " tensor([0.0164], requires_grad=True),\n",
       " 57325390269: Parameter containing:\n",
       " tensor([[0.5494, 0.0550]], requires_grad=True),\n",
       " 33705474078: Parameter containing:\n",
       " tensor([0.4198], requires_grad=True),\n",
       " 95939079161: Parameter containing:\n",
       " tensor([[ 0.0640, -0.0266]], requires_grad=True),\n",
       " 69831519992: Parameter containing:\n",
       " tensor([0.0164], requires_grad=True),\n",
       " 78662328810: Parameter containing:\n",
       " tensor([[0.5494, 0.0550]], requires_grad=True),\n",
       " 10756964509: Parameter containing:\n",
       " tensor([0.4198], requires_grad=True),\n",
       " 36922542283: Parameter containing:\n",
       " tensor([[ 0.0640, -0.0266]], requires_grad=True),\n",
       " 14823853751: Parameter containing:\n",
       " tensor([0.0164], requires_grad=True),\n",
       " 13157526736: Parameter containing:\n",
       " tensor([[0.5494, 0.0550]], requires_grad=True),\n",
       " 71323684253: Parameter containing:\n",
       " tensor([0.4198], requires_grad=True),\n",
       " 69232335156: Parameter containing:\n",
       " tensor([[ 0.0640, -0.0266]], requires_grad=True),\n",
       " 13830872625: Parameter containing:\n",
       " tensor([0.0164], requires_grad=True)}"
      ]
     },
     "execution_count": 12,
     "metadata": {},
     "output_type": "execute_result"
    }
   ],
   "source": [
    "secure_worker._objects"
   ]
  },
  {
   "cell_type": "code",
   "execution_count": null,
   "metadata": {},
   "outputs": [],
   "source": []
  }
 ],
 "metadata": {
  "kernelspec": {
   "display_name": "Python 3",
   "language": "python",
   "name": "python3"
  },
  "language_info": {
   "codemirror_mode": {
    "name": "ipython",
    "version": 3
   },
   "file_extension": ".py",
   "mimetype": "text/x-python",
   "name": "python",
   "nbconvert_exporter": "python",
   "pygments_lexer": "ipython3",
   "version": "3.6.8"
  }
 },
 "nbformat": 4,
 "nbformat_minor": 2
}
